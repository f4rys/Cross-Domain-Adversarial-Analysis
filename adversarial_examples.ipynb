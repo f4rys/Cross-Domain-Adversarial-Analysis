{
 "cells": [
  {
   "cell_type": "markdown",
   "id": "255dd6f2",
   "metadata": {},
   "source": [
    "## Adversarial Attacks on ResNet50"
   ]
  },
  {
   "cell_type": "markdown",
   "id": "bb1d5c6f",
   "metadata": {},
   "source": [
    "This notebook demonstrates several adversarial attacks (FGSM, PGD, CW, DeepFool) against a pre-trained ResNet50 model on a subset of ImageNet data."
   ]
  },
  {
   "cell_type": "code",
   "execution_count": null,
   "id": "ab5f25d7",
   "metadata": {},
   "outputs": [],
   "source": [
    "import torch\n",
    "import torch.utils.data as data\n",
    "import torchvision.models as models\n",
    "import torchvision.datasets as datasets\n",
    "\n",
    "from attacks.fgsm import FGSM\n",
    "from attacks.pgd import PGD\n",
    "from attacks.cw import CW\n",
    "from attacks.deepfool import DeepFool\n",
    "\n",
    "from utils.helpers import preprocess, set_seed, get_fixed_parameter, load_imagenet_classes\n",
    "from utils.evaluation import evaluate_attack, evaluate_all_attacks, print_accuracy_confidence\n",
    "from utils.visualization import (\n",
    "    plot_accuracy_vs_param, visualize_generic_sweep,\n",
    "    visualize_pgd_heatmaps, visualize_comparison_results, \n",
    "    visualize_deepfool_heatmaps\n",
    ")"
   ]
  },
  {
   "cell_type": "markdown",
   "id": "0d9ed07a",
   "metadata": {},
   "source": [
    "## Configuration"
   ]
  },
  {
   "cell_type": "code",
   "execution_count": null,
   "id": "61230862",
   "metadata": {},
   "outputs": [],
   "source": [
    "IMAGENET_VAL_DIR = './imagenet_val/'\n",
    "LABEL_MAP_FILE = './imagenet_classes.txt'\n",
    "BATCH_SIZE = 4     # How many images to process at once\n",
    "NUM_IMAGES = 4    # Max number of images to test\n",
    "DEVICE = torch.device(\"cuda\" if torch.cuda.is_available() else \"cpu\")\n",
    "SEED = 806\n",
    "\n",
    "# Set random seed for reproducibility\n",
    "set_seed(SEED, DEVICE)\n",
    "\n",
    "# Check device\n",
    "print(f\"Using device: {DEVICE}\")"
   ]
  },
  {
   "cell_type": "markdown",
   "id": "81e4516f",
   "metadata": {},
   "source": [
    "## Load model and data"
   ]
  },
  {
   "cell_type": "markdown",
   "id": "eaee7222",
   "metadata": {},
   "source": [
    "### Load Pre-trained model (ResNet50)"
   ]
  },
  {
   "cell_type": "code",
   "execution_count": null,
   "id": "d1ab13cc",
   "metadata": {},
   "outputs": [],
   "source": [
    "# Load a pre-trained ResNet50 model\n",
    "model = models.resnet50(weights=models.ResNet50_Weights.IMAGENET1K_V2)\n",
    "model = model.to(DEVICE)\n",
    "model.eval()\n",
    "\n",
    "print(\"ResNet50 model loaded successfully.\")"
   ]
  },
  {
   "cell_type": "markdown",
   "id": "d23f1b63",
   "metadata": {},
   "source": [
    "### Load ImageNet subset"
   ]
  },
  {
   "cell_type": "code",
   "execution_count": null,
   "id": "a4f89b30",
   "metadata": {},
   "outputs": [],
   "source": [
    "# Create a dataset object\n",
    "imagenet_data = datasets.ImageFolder(IMAGENET_VAL_DIR, preprocess)\n",
    "print(f\"Found {len(imagenet_data)} images in {IMAGENET_VAL_DIR}\")\n",
    "print(f\"Class mapping (first 5): {list(imagenet_data.class_to_idx.items())[:5]}\")\n",
    "\n",
    "# Use a subset of the data\n",
    "subset_indices = list(range(min(NUM_IMAGES, len(imagenet_data))))\n",
    "imagenet_subset = data.Subset(imagenet_data, subset_indices)\n",
    "\n",
    "# Create a DataLoader\n",
    "test_loader = data.DataLoader(imagenet_subset, batch_size=BATCH_SIZE, shuffle=False)\n",
    "print(f\"Created DataLoader with {len(imagenet_subset)} images.\")"
   ]
  },
  {
   "cell_type": "markdown",
   "id": "8bdc3ed5",
   "metadata": {},
   "source": [
    "### Load class labels"
   ]
  },
  {
   "cell_type": "code",
   "execution_count": null,
   "id": "6ea7bc77",
   "metadata": {},
   "outputs": [],
   "source": [
    "imagenet_classes = load_imagenet_classes(LABEL_MAP_FILE)\n",
    "print(f\"Loaded {len(imagenet_classes)} class names from index file.\")\n",
    "print(\"Sample class names:\", list(imagenet_classes.items())[:5])"
   ]
  },
  {
   "cell_type": "markdown",
   "id": "00054f30",
   "metadata": {},
   "source": [
    "## Parameter impact analysis"
   ]
  },
  {
   "cell_type": "code",
   "execution_count": null,
   "id": "4f82ee36",
   "metadata": {},
   "outputs": [],
   "source": [
    "subset_indices_param_test = list(range(min(NUM_IMAGES, len(imagenet_data))))\n",
    "imagenet_subset_param_test = data.Subset(imagenet_data, subset_indices_param_test)\n",
    "param_test_loader = data.DataLoader(imagenet_subset_param_test, batch_size=BATCH_SIZE, shuffle=False)\n",
    "print(f\"\\nParameter testing will use {NUM_IMAGES} images.\")"
   ]
  },
  {
   "cell_type": "markdown",
   "id": "980e2730",
   "metadata": {},
   "source": [
    "### FGSM Parameter Impact (Epsilon)"
   ]
  },
  {
   "cell_type": "code",
   "execution_count": null,
   "id": "91495236",
   "metadata": {},
   "outputs": [],
   "source": [
    "# Controls the magnitude of the perturbation. Larger eps = stronger attack but more visible noise.\n",
    "FGSM_EPSILONS = [0.001, 0.01, 0.07, 0.1, 0.3, 0.5]"
   ]
  },
  {
   "cell_type": "code",
   "execution_count": null,
   "id": "f0298653",
   "metadata": {},
   "outputs": [],
   "source": [
    "fgsm_results = {}\n",
    "clean_data_for_fgsm = None\n",
    "\n",
    "print(\"\\n--- Testing FGSM Epsilons ---\")\n",
    "for eps in FGSM_EPSILONS:\n",
    "    print(f\"\\nTesting FGSM with epsilon = {eps}\")\n",
    "    fgsm_attack = FGSM(model, eps=eps)\n",
    "    results, clean_results = evaluate_attack(fgsm_attack, param_test_loader, model, DEVICE, NUM_IMAGES)\n",
    "    fgsm_results[eps] = results\n",
    "    if clean_data_for_fgsm is None:\n",
    "        clean_data_for_fgsm = clean_results\n",
    "print(\"----------------------------\")"
   ]
  },
  {
   "cell_type": "code",
   "execution_count": null,
   "id": "06db500d",
   "metadata": {},
   "outputs": [],
   "source": [
    "# Prepare data for plotting\n",
    "fgsm_accuracies = [res['accuracy'] for res in fgsm_results.values()]\n",
    "\n",
    "# Plot FGSM Accuracy vs Epsilon\n",
    "plot_accuracy_vs_param(FGSM_EPSILONS, fgsm_accuracies, param_label='Epsilon', title='FGSM Accuracy vs. Epsilon')\n",
    "\n",
    "# Visualize FGSM examples for different epsilons\n",
    "num_samples_to_show = min(3, NUM_IMAGES)\n",
    "visualize_generic_sweep(\n",
    "    num_samples_to_show=num_samples_to_show, \n",
    "    param_values=FGSM_EPSILONS, \n",
    "    attack_results=fgsm_results, \n",
    "    clean_data=clean_data_for_fgsm, \n",
    "    imagenet_classes=imagenet_classes, \n",
    "    attack_name=\"FGSM\",\n",
    "    param_label_in_subplot_title=\"eps\",\n",
    "    param_display_name_in_suptitle=\"Epsilon\"\n",
    ")"
   ]
  },
  {
   "cell_type": "markdown",
   "id": "e8c2850d",
   "metadata": {},
   "source": [
    "### PGD Parameter Impact (Epsilon, Alpha, Steps)"
   ]
  },
  {
   "cell_type": "code",
   "execution_count": null,
   "id": "0d5c99dd",
   "metadata": {},
   "outputs": [],
   "source": [
    "# Maximum perturbation allowed. Larger eps = stronger attack but more visible noise.\n",
    "PGD_EPSILONS = [0.001, 0.01, 0.07, 0.1]\n",
    "# Step size for each iteration. Smaller alpha = more iterations needed to reach eps.\n",
    "PGD_ALPHAS = [0.001, 0.01, 0.1]\n",
    "# Number of iterations. More steps = potentially stronger attack but slower.\n",
    "PGD_STEPS = [10, 30]"
   ]
  },
  {
   "cell_type": "markdown",
   "id": "5aa2ac06",
   "metadata": {},
   "source": [
    "Run attacks"
   ]
  },
  {
   "cell_type": "code",
   "execution_count": null,
   "id": "16d09cd0",
   "metadata": {},
   "outputs": [],
   "source": [
    "pgd_results = {}\n",
    "clean_data_for_pgd = None\n",
    "\n",
    "print(\"\\n--- Testing PGD Parameter Combinations ---\")\n",
    "for eps in PGD_EPSILONS:\n",
    "    for alpha in PGD_ALPHAS:\n",
    "        for steps in PGD_STEPS:\n",
    "            params = (eps, alpha, steps)\n",
    "            print(f\"\\nTesting PGD with epsilon = {eps}, alpha = {alpha}, steps = {steps}\")\n",
    "            pgd_attack = PGD(model, eps=eps, alpha=alpha, steps=steps)\n",
    "            results, clean_results = evaluate_attack(pgd_attack, param_test_loader, model, DEVICE, NUM_IMAGES)\n",
    "            pgd_results[params] = results\n",
    "            if clean_data_for_pgd is None:\n",
    "                clean_data_for_pgd = clean_results\n",
    "\n",
    "print(\"-----------------------------------------\")"
   ]
  },
  {
   "cell_type": "markdown",
   "id": "1b95ef33",
   "metadata": {},
   "source": [
    "Plot results"
   ]
  },
  {
   "cell_type": "code",
   "execution_count": null,
   "id": "e38dcb5b",
   "metadata": {},
   "outputs": [],
   "source": [
    "# Take median of alpha and steps for plotting\n",
    "fixed_alpha = get_fixed_parameter(PGD_ALPHAS)\n",
    "fixed_steps = get_fixed_parameter(PGD_STEPS)\n",
    "\n",
    "pgd_accuracies_for_epsilon_plot = []\n",
    "pgd_results_for_epsilon_visualization = {}\n",
    "\n",
    "for eps_val in PGD_EPSILONS:\n",
    "    # Construct the parameter tuple for the current epsilon and fixed alpha/steps\n",
    "    current_params_key = (eps_val, fixed_alpha, fixed_steps)\n",
    "    pgd_accuracies_for_epsilon_plot.append(pgd_results[current_params_key]['accuracy'])\n",
    "    pgd_results_for_epsilon_visualization[eps_val] = pgd_results[current_params_key]\n",
    "\n",
    "# Plot PGD Accuracy vs Epsilon (for the fixed alpha and steps)\n",
    "plot_accuracy_vs_param(\n",
    "    PGD_EPSILONS,\n",
    "    pgd_accuracies_for_epsilon_plot,\n",
    "    param_label='Epsilon',\n",
    "    title=f'PGD Accuracy vs. Epsilon (alpha={fixed_alpha}, steps={fixed_steps})'\n",
    ")\n",
    "\n",
    "# Visualize PGD examples for different epsilons (for the fixed alpha and steps)\n",
    "num_samples_to_show = min(3, NUM_IMAGES)\n",
    "visualize_generic_sweep(\n",
    "    num_samples_to_show=num_samples_to_show,\n",
    "    param_values=PGD_EPSILONS,\n",
    "    attack_results=pgd_results_for_epsilon_visualization,\n",
    "    clean_data=clean_data_for_pgd,\n",
    "    imagenet_classes=imagenet_classes,\n",
    "    attack_name=f\"PGD (α={fixed_alpha}, steps={fixed_steps})\",\n",
    "    param_label_in_subplot_title=\"eps\",\n",
    "    param_display_name_in_suptitle=\"Epsilon\"\n",
    ")"
   ]
  },
  {
   "cell_type": "markdown",
   "id": "fc3f7d7f",
   "metadata": {},
   "source": [
    "Heatmap Visualization"
   ]
  },
  {
   "cell_type": "code",
   "execution_count": null,
   "id": "aad20025",
   "metadata": {},
   "outputs": [],
   "source": [
    "visualize_pgd_heatmaps(pgd_results, PGD_EPSILONS, PGD_ALPHAS, PGD_STEPS)"
   ]
  },
  {
   "cell_type": "markdown",
   "id": "1b646b3b",
   "metadata": {},
   "source": [
    "### CW Parameter Impact (C)"
   ]
  },
  {
   "cell_type": "code",
   "execution_count": null,
   "id": "d33adeb1",
   "metadata": {},
   "outputs": [],
   "source": [
    "# CW:\n",
    "# Controls the trade-off between perturbation magnitude and classification confidence. Higher c = stronger attack.\n",
    "CW_CS = [100, 1000, 10000]\n",
    "# Number of optimization steps.\n",
    "CW_STEPS = 100\n",
    "# Learning rate for the optimizer.\n",
    "CW_LR = 0.01\n",
    "# Confidence parameter. Increase to make misclassification more confident. 0 means just misclassification.\n",
    "CW_KAPPA = 0"
   ]
  },
  {
   "cell_type": "code",
   "execution_count": null,
   "id": "07ce6f8c",
   "metadata": {},
   "outputs": [],
   "source": [
    "cw_results = {}\n",
    "clean_data_for_cw = None\n",
    "\n",
    "print(\"\\n--- Testing CW C Values ---\")\n",
    "print(f\"(Using reduced steps={CW_STEPS} for faster testing)\")\n",
    "for c_val in CW_CS:\n",
    "    print(f\"Testing CW with c = {c_val}, kappa = {CW_KAPPA}, steps = {CW_STEPS}, lr = {CW_LR}\")\n",
    "    cw_attack = CW(model, c=c_val, kappa=CW_KAPPA, steps=CW_STEPS, lr=CW_LR)\n",
    "    results, clean_results = evaluate_attack(cw_attack, param_test_loader, model, DEVICE, NUM_IMAGES)\n",
    "    cw_results[c_val] = results\n",
    "    if clean_data_for_cw is None:\n",
    "        clean_data_for_cw = clean_results\n",
    "print(\"-------------------------\")"
   ]
  },
  {
   "cell_type": "code",
   "execution_count": null,
   "id": "5488ba70",
   "metadata": {},
   "outputs": [],
   "source": [
    "# Prepare data for plotting\n",
    "cw_accuracies = [res['accuracy'] for res in cw_results.values()]\n",
    "\n",
    "# Plot CW Accuracy vs C\n",
    "plot_accuracy_vs_param(\n",
    "    CW_CS,\n",
    "    cw_accuracies,\n",
    "    param_label='C value',\n",
    "    title=f'CW Accuracy vs. C (kappa={CW_KAPPA}, steps={CW_STEPS}, lr={CW_LR})'\n",
    ")\n",
    "\n",
    "# Visualize CW examples for different C values\n",
    "num_samples_to_show = min(3, NUM_IMAGES)\n",
    "visualize_generic_sweep(\n",
    "    num_samples_to_show=num_samples_to_show,\n",
    "    param_values=CW_CS,\n",
    "    attack_results=cw_results,\n",
    "    clean_data=clean_data_for_cw,\n",
    "    imagenet_classes=imagenet_classes,\n",
    "    attack_name=f\"CW\",\n",
    "    param_label_in_subplot_title=\"c\",\n",
    "    param_display_name_in_suptitle=\"C\",\n",
    "    suptitle_extra_info=f\"(kappa={CW_KAPPA}, steps={CW_STEPS}, lr={CW_LR})\"\n",
    ")"
   ]
  },
  {
   "cell_type": "markdown",
   "id": "3d74eda0",
   "metadata": {},
   "source": [
    "### DeepFool parameter impact (Steps, Overshoot)"
   ]
  },
  {
   "cell_type": "code",
   "execution_count": null,
   "id": "0c2cd338",
   "metadata": {},
   "outputs": [],
   "source": [
    "# DeepFool:\n",
    "# Maximum number of iterations to find the boundary. Beware: increasing will make process painfully slow.\n",
    "DF_STEPS = [1, 2, 5]\n",
    "# Factor to push the image slightly over the boundary.\n",
    "DF_OVERSHOOT = [0.01, 0.1, 0.5]\n",
    "# Model specific; ResNet50 is trained on ImageNet with 1000 classes.\n",
    "NUM_CLASSES = 1000"
   ]
  },
  {
   "cell_type": "code",
   "execution_count": null,
   "id": "2c14899a",
   "metadata": {},
   "outputs": [],
   "source": [
    "deepfool_results = {}\n",
    "clean_data_for_deepfool = None\n",
    "\n",
    "print(\"\\n--- Testing DeepFool Parameter Combinations ---\")\n",
    "for steps_val in DF_STEPS:\n",
    "    for overshoot_val in DF_OVERSHOOT:\n",
    "        params = (steps_val, overshoot_val)\n",
    "        print(f\"\\nTesting DeepFool with steps = {steps_val}, overshoot = {overshoot_val}\")\n",
    "        deepfool_attack = DeepFool(model, steps_val, overshoot_val, NUM_CLASSES)\n",
    "        results, clean_results = evaluate_attack(deepfool_attack, param_test_loader, model, DEVICE, NUM_IMAGES)\n",
    "        deepfool_results[params] = results\n",
    "        if clean_data_for_deepfool is None:\n",
    "            clean_data_for_deepfool = clean_results\n",
    "print(\"-----------------------------------------\")"
   ]
  },
  {
   "cell_type": "code",
   "execution_count": null,
   "id": "e7e2d47d",
   "metadata": {},
   "outputs": [],
   "source": [
    "# Prepare data for plotting (median overshoot for steps plot, median steps for overshoot plot)\n",
    "fixed_steps_df = get_fixed_parameter(DF_STEPS)\n",
    "num_samples_to_show_df_overshoot = min(3, NUM_IMAGES)\n",
    "df_accuracies_for_overshoot_plot = []\n",
    "df_results_for_overshoot_visualization = {}\n",
    "\n",
    "for overshoot_val in DF_OVERSHOOT:\n",
    "    current_params_key = (fixed_steps_df, overshoot_val)\n",
    "    df_accuracies_for_overshoot_plot.append(deepfool_results[current_params_key]['accuracy'])\n",
    "    df_results_for_overshoot_visualization[overshoot_val] = deepfool_results[current_params_key]\n",
    "\n",
    "# Plot DeepFool Accuracy vs. Overshoot (for fixed median steps)\n",
    "plot_accuracy_vs_param(\n",
    "    DF_OVERSHOOT,\n",
    "    df_accuracies_for_overshoot_plot,\n",
    "    param_label='Overshoot',\n",
    "    title=f'DeepFool Accuracy vs. Overshoot (Steps={fixed_steps_df})'\n",
    ")\n",
    "\n",
    "# Visualize DeepFool examples for different overshoot (for fixed median steps)\n",
    "visualize_generic_sweep(\n",
    "    num_samples_to_show=num_samples_to_show_df_overshoot,\n",
    "    param_values=DF_OVERSHOOT,\n",
    "    attack_results=df_results_for_overshoot_visualization,\n",
    "    clean_data=clean_data_for_deepfool,\n",
    "    imagenet_classes=imagenet_classes,\n",
    "    attack_name=f\"DeepFool (Steps={fixed_steps_df})\",\n",
    "    param_label_in_subplot_title=\"Overshoot\",\n",
    "    param_display_name_in_suptitle=\"Overshoot\"\n",
    ")"
   ]
  },
  {
   "cell_type": "code",
   "execution_count": null,
   "id": "0865c1f1",
   "metadata": {},
   "outputs": [],
   "source": [
    "visualize_deepfool_heatmaps(deepfool_results, DF_STEPS, DF_OVERSHOOT)"
   ]
  },
  {
   "cell_type": "markdown",
   "id": "64bb8ad9",
   "metadata": {},
   "source": [
    "## Attacks comparison"
   ]
  },
  {
   "cell_type": "markdown",
   "id": "596c06fc",
   "metadata": {},
   "source": [
    "Fixed parameters for comparison"
   ]
  },
  {
   "cell_type": "code",
   "execution_count": null,
   "id": "55014dd4",
   "metadata": {},
   "outputs": [],
   "source": [
    "# FGSM\n",
    "FGSM_EPSILON = 0.1\n",
    "\n",
    "# PGD\n",
    "PGD_EPSILON = 0.1\n",
    "PGD_ALPHA = 0.01\n",
    "PGD_STEPS = 10\n",
    "\n",
    "# CW\n",
    "CW_C = 1000\n",
    "CW_STEPS = 100\n",
    "CW_LR = 0.01\n",
    "CW_KAPPA = 0\n",
    "\n",
    "# DeepFool\n",
    "DF_STEPS = 2\n",
    "DF_OVERSHOOT = 0.1\n",
    "NUM_CLASSES = 1000"
   ]
  },
  {
   "cell_type": "code",
   "execution_count": null,
   "id": "62f7525e",
   "metadata": {},
   "outputs": [],
   "source": [
    "# Initialize attacks dictionary\n",
    "attacks = {}\n",
    "\n",
    "# Add attacks using the fixed parameters\n",
    "attacks['FGSM'] = FGSM(model, FGSM_EPSILON)\n",
    "attacks['PGD'] = PGD(model, PGD_EPSILON, PGD_ALPHA, PGD_STEPS)\n",
    "attacks['CW'] = CW(model, CW_C, CW_KAPPA, CW_STEPS, CW_LR)\n",
    "attacks['DeepFool'] = DeepFool(model, DF_STEPS, DF_OVERSHOOT, NUM_CLASSES)"
   ]
  },
  {
   "cell_type": "code",
   "execution_count": null,
   "id": "a8df4579",
   "metadata": {},
   "outputs": [],
   "source": [
    "results = evaluate_all_attacks(\n",
    "    attacks,\n",
    "    test_loader,\n",
    "    model,\n",
    "    DEVICE,\n",
    "    NUM_IMAGES,\n",
    "    imagenet_classes\n",
    ")"
   ]
  },
  {
   "cell_type": "markdown",
   "id": "57f551ec",
   "metadata": {},
   "source": [
    "### Analyze Results"
   ]
  },
  {
   "cell_type": "code",
   "execution_count": null,
   "id": "d42a7de3",
   "metadata": {},
   "outputs": [],
   "source": [
    "# Visualize sample results\n",
    "num_samples_to_show = min(5, results['clean']['total'] if results['clean']['total'] > 0 else 0)\n",
    "if num_samples_to_show > 0:\n",
    "    visualize_comparison_results(num_samples_to_show, results, attacks, imagenet_classes)"
   ]
  },
  {
   "cell_type": "code",
   "execution_count": null,
   "id": "ceb0cccc",
   "metadata": {},
   "outputs": [],
   "source": [
    "print_accuracy_confidence(results, attacks)"
   ]
  }
 ],
 "metadata": {
  "kernelspec": {
   "display_name": "Python 3",
   "language": "python",
   "name": "python3"
  },
  "language_info": {
   "codemirror_mode": {
    "name": "ipython",
    "version": 3
   },
   "file_extension": ".py",
   "mimetype": "text/x-python",
   "name": "python",
   "nbconvert_exporter": "python",
   "pygments_lexer": "ipython3",
   "version": "3.12.10"
  }
 },
 "nbformat": 4,
 "nbformat_minor": 5
}
