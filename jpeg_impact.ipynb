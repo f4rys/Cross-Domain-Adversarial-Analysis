{
 "cells": [
  {
   "cell_type": "markdown",
   "id": "7eb67642",
   "metadata": {
    "papermill": {
     "duration": 0.005064,
     "end_time": "2025-06-04T19:27:09.625068",
     "exception": false,
     "start_time": "2025-06-04T19:27:09.620004",
     "status": "completed"
    },
    "tags": []
   },
   "source": [
    "## Evaluating JPEG Compression Impact on Adversarial Attacks\n",
    "\n",
    "This notebook investigates whether saving adversarially perturbed images as JPEGs with different quality levels diminishes the effectiveness of adversarial attacks on a ResNet50 model. Four attacks are considered: FGSM, PGD, DeepFool, and CW. The workflow includes generating adversarial examples, saving them as JPEGs, reloading, and comparing model predictions."
   ]
  },
  {
   "cell_type": "code",
   "execution_count": 1,
   "id": "ea92a5ed",
   "metadata": {
    "execution": {
     "iopub.execute_input": "2025-06-04T19:27:09.635782Z",
     "iopub.status.busy": "2025-06-04T19:27:09.635448Z",
     "iopub.status.idle": "2025-06-04T19:27:17.888097Z",
     "shell.execute_reply": "2025-06-04T19:27:17.887490Z"
    },
    "papermill": {
     "duration": 8.258515,
     "end_time": "2025-06-04T19:27:17.889145",
     "exception": false,
     "start_time": "2025-06-04T19:27:09.630630",
     "status": "completed"
    },
    "tags": []
   },
   "outputs": [],
   "source": [
    "import os\n",
    "\n",
    "import torch\n",
    "import torch.utils.data as data\n",
    "import torchvision.models as models\n",
    "import torchvision.datasets as datasets\n",
    "import matplotlib.pyplot as plt\n",
    "from PIL import Image\n",
    "import numpy as np\n",
    "\n",
    "from attacks.fgsm import FGSM\n",
    "from attacks.pgd import PGD\n",
    "from attacks.cw import CW\n",
    "from attacks.deepfool import DeepFool\n",
    "\n",
    "from utils.helpers import preprocess, inv_tensor_transform, set_seed, load_imagenet_classes\n",
    "from utils.evaluation import evaluate_attack"
   ]
  },
  {
   "cell_type": "markdown",
   "id": "87c98369",
   "metadata": {
    "papermill": {
     "duration": 0.003807,
     "end_time": "2025-06-04T19:27:17.897553",
     "exception": false,
     "start_time": "2025-06-04T19:27:17.893746",
     "status": "completed"
    },
    "tags": []
   },
   "source": [
    "## Configuration"
   ]
  },
  {
   "cell_type": "code",
   "execution_count": 2,
   "id": "527a971c",
   "metadata": {
    "execution": {
     "iopub.execute_input": "2025-06-04T19:27:17.906309Z",
     "iopub.status.busy": "2025-06-04T19:27:17.905886Z",
     "iopub.status.idle": "2025-06-04T19:27:18.017002Z",
     "shell.execute_reply": "2025-06-04T19:27:18.016413Z"
    },
    "papermill": {
     "duration": 0.116184,
     "end_time": "2025-06-04T19:27:18.017689",
     "exception": false,
     "start_time": "2025-06-04T19:27:17.901505",
     "status": "completed"
    },
    "tags": []
   },
   "outputs": [
    {
     "name": "stdout",
     "output_type": "stream",
     "text": [
      "Using device: cuda\n"
     ]
    }
   ],
   "source": [
    "IMAGENET_VAL_DIR = './data/imagenet_val/'\n",
    "LABEL_MAP_FILE = './data/imagenet_classes.txt'\n",
    "os.makedirs('results/jpeg_attacks', exist_ok=True)\n",
    "\n",
    "BATCH_SIZE = 8 # How many images to process at once\n",
    "NUM_IMAGES = 32 # How many images to process in total\n",
    "\n",
    "DEVICE = torch.device(\"cuda\" if torch.cuda.is_available() else \"cpu\")\n",
    "SEED = 806\n",
    "\n",
    "# Set random seed for reproducibility\n",
    "set_seed(SEED, DEVICE)\n",
    "\n",
    "# Check device\n",
    "print(f\"Using device: {DEVICE}\")"
   ]
  },
  {
   "cell_type": "code",
   "execution_count": 3,
   "id": "3197fdba",
   "metadata": {
    "execution": {
     "iopub.execute_input": "2025-06-04T19:27:18.028595Z",
     "iopub.status.busy": "2025-06-04T19:27:18.028324Z",
     "iopub.status.idle": "2025-06-04T19:27:18.031139Z",
     "shell.execute_reply": "2025-06-04T19:27:18.030725Z"
    },
    "papermill": {
     "duration": 0.008898,
     "end_time": "2025-06-04T19:27:18.031809",
     "exception": false,
     "start_time": "2025-06-04T19:27:18.022911",
     "status": "completed"
    },
    "tags": []
   },
   "outputs": [],
   "source": [
    "if NUM_IMAGES > 1000:\n",
    "    raise ValueError(\"NUM_IMAGES must be less than or equal to 1024, the number of images in the dataset.\")"
   ]
  },
  {
   "cell_type": "markdown",
   "id": "fe4f6f46",
   "metadata": {
    "papermill": {
     "duration": 0.003908,
     "end_time": "2025-06-04T19:27:18.039914",
     "exception": false,
     "start_time": "2025-06-04T19:27:18.036006",
     "status": "completed"
    },
    "tags": []
   },
   "source": [
    "## Load model and data"
   ]
  },
  {
   "cell_type": "markdown",
   "id": "b9c6e62d",
   "metadata": {
    "papermill": {
     "duration": 0.003593,
     "end_time": "2025-06-04T19:27:18.047604",
     "exception": false,
     "start_time": "2025-06-04T19:27:18.044011",
     "status": "completed"
    },
    "tags": []
   },
   "source": [
    "### Load Pre-trained model (ResNet50)"
   ]
  },
  {
   "cell_type": "code",
   "execution_count": 4,
   "id": "1b391f38",
   "metadata": {
    "execution": {
     "iopub.execute_input": "2025-06-04T19:27:18.056703Z",
     "iopub.status.busy": "2025-06-04T19:27:18.056442Z",
     "iopub.status.idle": "2025-06-04T19:27:18.923442Z",
     "shell.execute_reply": "2025-06-04T19:27:18.922823Z"
    },
    "papermill": {
     "duration": 0.872098,
     "end_time": "2025-06-04T19:27:18.924078",
     "exception": false,
     "start_time": "2025-06-04T19:27:18.051980",
     "status": "completed"
    },
    "tags": []
   },
   "outputs": [
    {
     "name": "stdout",
     "output_type": "stream",
     "text": [
      "ResNet50 model loaded successfully.\n"
     ]
    }
   ],
   "source": [
    "# Load a pre-trained ResNet50 model\n",
    "model = models.resnet50(weights=models.ResNet50_Weights.IMAGENET1K_V2)\n",
    "model = model.to(DEVICE)\n",
    "model.eval()\n",
    "\n",
    "print(\"ResNet50 model loaded successfully.\")"
   ]
  },
  {
   "cell_type": "markdown",
   "id": "94957c6b",
   "metadata": {
    "papermill": {
     "duration": 0.0051,
     "end_time": "2025-06-04T19:27:18.935406",
     "exception": false,
     "start_time": "2025-06-04T19:27:18.930306",
     "status": "completed"
    },
    "tags": []
   },
   "source": [
    "### Load ImageNet subset"
   ]
  },
  {
   "cell_type": "code",
   "execution_count": 5,
   "id": "bb9968fe",
   "metadata": {
    "execution": {
     "iopub.execute_input": "2025-06-04T19:27:18.945730Z",
     "iopub.status.busy": "2025-06-04T19:27:18.945458Z",
     "iopub.status.idle": "2025-06-04T19:27:19.229213Z",
     "shell.execute_reply": "2025-06-04T19:27:19.228770Z"
    },
    "papermill": {
     "duration": 0.290129,
     "end_time": "2025-06-04T19:27:19.229908",
     "exception": false,
     "start_time": "2025-06-04T19:27:18.939779",
     "status": "completed"
    },
    "tags": []
   },
   "outputs": [
    {
     "name": "stdout",
     "output_type": "stream",
     "text": [
      "Found 1000 images in ./data/imagenet_val/\n",
      "Class mapping (first 5): [('n01440764', 0), ('n01443537', 1), ('n01484850', 2), ('n01491361', 3), ('n01494475', 4)]\n",
      "Created DataLoader with 32 images.\n"
     ]
    }
   ],
   "source": [
    "# Create a dataset object\n",
    "imagenet_data = datasets.ImageFolder(IMAGENET_VAL_DIR, preprocess)\n",
    "print(f\"Found {len(imagenet_data)} images in {IMAGENET_VAL_DIR}\")\n",
    "print(f\"Class mapping (first 5): {list(imagenet_data.class_to_idx.items())[:5]}\")\n",
    "\n",
    "# Use a subset of the data\n",
    "subset_indices = list(range(min(NUM_IMAGES, len(imagenet_data))))\n",
    "imagenet_subset = data.Subset(imagenet_data, subset_indices)\n",
    "\n",
    "# Create a DataLoader\n",
    "test_loader = data.DataLoader(imagenet_subset, batch_size=BATCH_SIZE, shuffle=False)\n",
    "print(f\"Created DataLoader with {len(imagenet_subset)} images.\")"
   ]
  },
  {
   "cell_type": "markdown",
   "id": "fbff34d6",
   "metadata": {
    "papermill": {
     "duration": 0.004222,
     "end_time": "2025-06-04T19:27:19.239267",
     "exception": false,
     "start_time": "2025-06-04T19:27:19.235045",
     "status": "completed"
    },
    "tags": []
   },
   "source": [
    "### Load class labels"
   ]
  },
  {
   "cell_type": "code",
   "execution_count": 6,
   "id": "92737b84",
   "metadata": {
    "execution": {
     "iopub.execute_input": "2025-06-04T19:27:19.248498Z",
     "iopub.status.busy": "2025-06-04T19:27:19.248240Z",
     "iopub.status.idle": "2025-06-04T19:27:19.252535Z",
     "shell.execute_reply": "2025-06-04T19:27:19.252112Z"
    },
    "papermill": {
     "duration": 0.009374,
     "end_time": "2025-06-04T19:27:19.253148",
     "exception": false,
     "start_time": "2025-06-04T19:27:19.243774",
     "status": "completed"
    },
    "tags": []
   },
   "outputs": [
    {
     "name": "stdout",
     "output_type": "stream",
     "text": [
      "Loaded 1000 class names from index file.\n",
      "Sample class names: [(0, 'tench'), (1, 'goldfish'), (2, 'great_white_shark'), (3, 'tiger_shark'), (4, 'hammerhead')]\n"
     ]
    }
   ],
   "source": [
    "imagenet_classes = load_imagenet_classes(LABEL_MAP_FILE)\n",
    "print(f\"Loaded {len(imagenet_classes)} class names from index file.\")\n",
    "print(\"Sample class names:\", list(imagenet_classes.items())[:5])"
   ]
  },
  {
   "cell_type": "markdown",
   "id": "5e9d98a9",
   "metadata": {
    "papermill": {
     "duration": 0.0042,
     "end_time": "2025-06-04T19:27:19.261718",
     "exception": false,
     "start_time": "2025-06-04T19:27:19.257518",
     "status": "completed"
    },
    "tags": []
   },
   "source": [
    "### Define Fixed Attacks & JPEG Parameters"
   ]
  },
  {
   "cell_type": "code",
   "execution_count": 7,
   "id": "2aec36b2",
   "metadata": {
    "execution": {
     "iopub.execute_input": "2025-06-04T19:27:19.272078Z",
     "iopub.status.busy": "2025-06-04T19:27:19.271783Z",
     "iopub.status.idle": "2025-06-04T19:27:19.274555Z",
     "shell.execute_reply": "2025-06-04T19:27:19.274162Z"
    },
    "papermill": {
     "duration": 0.008514,
     "end_time": "2025-06-04T19:27:19.275160",
     "exception": false,
     "start_time": "2025-06-04T19:27:19.266646",
     "status": "completed"
    },
    "tags": []
   },
   "outputs": [],
   "source": [
    "# FGSM\n",
    "FGSM_EPSILON = 0.03\n",
    "\n",
    "# PGD\n",
    "PGD_EPSILON = 0.03\n",
    "PGD_ALPHA = 0.007\n",
    "PGD_STEPS = 10\n",
    "\n",
    "# CW\n",
    "CW_C = 1\n",
    "CW_KAPPA = 0\n",
    "CW_STEPS = 100\n",
    "CW_LR = 0.01\n",
    "\n",
    "# DeepFool\n",
    "DF_STEPS = 5\n",
    "DF_OVERSHOOT = 0.02\n",
    "NUM_CLASSES = 1000"
   ]
  },
  {
   "cell_type": "code",
   "execution_count": 8,
   "id": "09e865b4",
   "metadata": {
    "execution": {
     "iopub.execute_input": "2025-06-04T19:27:19.286794Z",
     "iopub.status.busy": "2025-06-04T19:27:19.286481Z",
     "iopub.status.idle": "2025-06-04T19:27:19.288997Z",
     "shell.execute_reply": "2025-06-04T19:27:19.288587Z"
    },
    "papermill": {
     "duration": 0.008168,
     "end_time": "2025-06-04T19:27:19.289676",
     "exception": false,
     "start_time": "2025-06-04T19:27:19.281508",
     "status": "completed"
    },
    "tags": []
   },
   "outputs": [],
   "source": [
    "JPEG_QUALITIES = [95, 85, 70]"
   ]
  },
  {
   "cell_type": "code",
   "execution_count": 9,
   "id": "e2bbcc2b",
   "metadata": {
    "execution": {
     "iopub.execute_input": "2025-06-04T19:27:19.299588Z",
     "iopub.status.busy": "2025-06-04T19:27:19.299273Z",
     "iopub.status.idle": "2025-06-04T19:27:19.326096Z",
     "shell.execute_reply": "2025-06-04T19:27:19.325461Z"
    },
    "papermill": {
     "duration": 0.031896,
     "end_time": "2025-06-04T19:27:19.326738",
     "exception": false,
     "start_time": "2025-06-04T19:27:19.294842",
     "status": "completed"
    },
    "tags": []
   },
   "outputs": [],
   "source": [
    "# Instantiate attacks\n",
    "attacks = {\n",
    "    'FGSM': FGSM(model, eps=FGSM_EPSILON, clip_min=None, clip_max=None),\n",
    "    'PGD': PGD(model, eps=PGD_EPSILON, alpha=PGD_ALPHA, steps=PGD_STEPS, clip_min=None, clip_max=None),\n",
    "    'CW': CW(model, c=CW_C, kappa=CW_KAPPA, steps=CW_STEPS, lr=CW_LR, clip_min=None, clip_max=None),\n",
    "    'DeepFool': DeepFool(model, steps=DF_STEPS, overshoot=DF_OVERSHOOT, num_classes=NUM_CLASSES, clip_min=None, clip_max=None)\n",
    "}"
   ]
  },
  {
   "cell_type": "markdown",
   "id": "f55694fa",
   "metadata": {
    "papermill": {
     "duration": 0.004227,
     "end_time": "2025-06-04T19:27:19.334959",
     "exception": false,
     "start_time": "2025-06-04T19:27:19.330732",
     "status": "completed"
    },
    "tags": []
   },
   "source": [
    "## Perform attacks and save images"
   ]
  },
  {
   "cell_type": "code",
   "execution_count": 10,
   "id": "9c1c2c48",
   "metadata": {
    "execution": {
     "iopub.execute_input": "2025-06-04T19:27:19.345248Z",
     "iopub.status.busy": "2025-06-04T19:27:19.344923Z",
     "iopub.status.idle": "2025-06-04T19:37:43.263171Z",
     "shell.execute_reply": "2025-06-04T19:37:43.262579Z"
    },
    "papermill": {
     "duration": 623.924804,
     "end_time": "2025-06-04T19:37:43.263811",
     "exception": false,
     "start_time": "2025-06-04T19:27:19.339007",
     "status": "completed"
    },
    "tags": []
   },
   "outputs": [
    {
     "name": "stdout",
     "output_type": "stream",
     "text": [
      "Generating adversarial examples for FGSM...\n"
     ]
    },
    {
     "name": "stdout",
     "output_type": "stream",
     "text": [
      "  Processed 8/32 images...\r",
      "  Processed 16/32 images...\r",
      "  Processed 24/32 images...\r"
     ]
    },
    {
     "name": "stdout",
     "output_type": "stream",
     "text": [
      "  Processed 32 images. Stopping.\n",
      "Attack evaluation finished. Accuracy: 62.50%\n"
     ]
    },
    {
     "name": "stdout",
     "output_type": "stream",
     "text": [
      "Generating adversarial examples for PGD...\n"
     ]
    },
    {
     "name": "stdout",
     "output_type": "stream",
     "text": [
      "  Processed 8/32 images...\r"
     ]
    },
    {
     "name": "stdout",
     "output_type": "stream",
     "text": [
      "  Processed 16/32 images...\r"
     ]
    },
    {
     "name": "stdout",
     "output_type": "stream",
     "text": [
      "  Processed 24/32 images...\r"
     ]
    },
    {
     "name": "stdout",
     "output_type": "stream",
     "text": [
      "  Processed 32 images. Stopping.\n",
      "Attack evaluation finished. Accuracy: 15.62%\n"
     ]
    },
    {
     "name": "stdout",
     "output_type": "stream",
     "text": [
      "Generating adversarial examples for CW...\n"
     ]
    },
    {
     "name": "stdout",
     "output_type": "stream",
     "text": [
      "  Processed 8/32 images...\r"
     ]
    },
    {
     "name": "stdout",
     "output_type": "stream",
     "text": [
      "  Processed 16/32 images...\r"
     ]
    },
    {
     "name": "stdout",
     "output_type": "stream",
     "text": [
      "  Processed 24/32 images...\r"
     ]
    },
    {
     "name": "stdout",
     "output_type": "stream",
     "text": [
      "  Processed 32 images. Stopping.\n",
      "Attack evaluation finished. Accuracy: 0.00%\n"
     ]
    },
    {
     "name": "stdout",
     "output_type": "stream",
     "text": [
      "Generating adversarial examples for DeepFool...\n"
     ]
    },
    {
     "name": "stdout",
     "output_type": "stream",
     "text": [
      "  Processed 8/32 images...\r"
     ]
    },
    {
     "name": "stdout",
     "output_type": "stream",
     "text": [
      "  Processed 16/32 images...\r"
     ]
    },
    {
     "name": "stdout",
     "output_type": "stream",
     "text": [
      "  Processed 24/32 images...\r"
     ]
    },
    {
     "name": "stdout",
     "output_type": "stream",
     "text": [
      "  Processed 32 images. Stopping.\n",
      "Attack evaluation finished. Accuracy: 43.75%\n"
     ]
    },
    {
     "name": "stdout",
     "output_type": "stream",
     "text": [
      "Saved all perturbed images as JPEGs with different qualities.\n"
     ]
    }
   ],
   "source": [
    "all_adv_filepaths = {atk: [] for atk in attacks}\n",
    "all_adv_images = {atk: [] for atk in attacks}  # Store in-memory adversarial images\n",
    "\n",
    "for attack_name, attack in attacks.items():\n",
    "    print(f\"Generating adversarial examples for {attack_name}...\")\n",
    "    adv_results, clean_results = evaluate_attack(attack, test_loader, model, DEVICE, NUM_IMAGES)\n",
    "    adv_images = adv_results['images']\n",
    "    all_adv_images[attack_name] = adv_images  # Save in-memory images\n",
    "\n",
    "    for idx, adv_img_tensor in enumerate(adv_images):\n",
    "        adv_img_pil = inv_tensor_transform(adv_img_tensor)\n",
    "        base_path = f'results/jpeg_attacks/{attack_name}_{idx}'\n",
    "        adv_img_pil.save(f'{base_path}_raw.png')\n",
    "        all_adv_filepaths[attack_name].append({'raw': f'{base_path}_raw.png'})\n",
    "\n",
    "        for q in JPEG_QUALITIES:\n",
    "            jpeg_path = f'{base_path}_q{q}.jpg'\n",
    "            adv_img_pil.save(jpeg_path, quality=q)\n",
    "            all_adv_filepaths[attack_name][-1][f'jpeg_{q}'] = jpeg_path\n",
    "\n",
    "print('Saved all perturbed images as JPEGs with different qualities.')"
   ]
  },
  {
   "cell_type": "code",
   "execution_count": 11,
   "id": "b94ae5a2",
   "metadata": {
    "execution": {
     "iopub.execute_input": "2025-06-04T19:37:43.274480Z",
     "iopub.status.busy": "2025-06-04T19:37:43.274029Z",
     "iopub.status.idle": "2025-06-04T19:37:46.606348Z",
     "shell.execute_reply": "2025-06-04T19:37:46.605742Z"
    },
    "papermill": {
     "duration": 3.338105,
     "end_time": "2025-06-04T19:37:46.606967",
     "exception": false,
     "start_time": "2025-06-04T19:37:43.268862",
     "status": "completed"
    },
    "tags": []
   },
   "outputs": [],
   "source": [
    "# Evaluate model predictions on raw perturbed (in-memory) and JPEG images\n",
    "results = {atk: {'raw': [], 'jpeg_95': [], 'jpeg_85': [], 'jpeg_70': []} for atk in attacks}\n",
    "\n",
    "for attack_name, filelist in all_adv_filepaths.items():\n",
    "    # Use stored in-memory adversarial images for 'raw' evaluation\n",
    "    adv_images = all_adv_images[attack_name]\n",
    "\n",
    "    # Evaluate in-memory (raw) adversarial images\n",
    "    for adv_img_tensor in adv_images:\n",
    "        with torch.no_grad():\n",
    "            pred_raw = model(adv_img_tensor.unsqueeze(0).to(DEVICE)).argmax(dim=1).item()\n",
    "        results[attack_name]['raw'].append(pred_raw)\n",
    "\n",
    "    # Evaluate JPEG-reloaded images\n",
    "    for idx, filepaths in enumerate(filelist):\n",
    "        for q in JPEG_QUALITIES:\n",
    "            img_jpeg = preprocess(Image.open(filepaths[f'jpeg_{q}']))\n",
    "            with torch.no_grad():\n",
    "                pred_jpeg = model(img_jpeg.unsqueeze(0).to(DEVICE)).argmax(dim=1).item()\n",
    "            results[attack_name][f'jpeg_{q}'].append(pred_jpeg)"
   ]
  },
  {
   "cell_type": "code",
   "execution_count": 12,
   "id": "7e85ac0d",
   "metadata": {
    "execution": {
     "iopub.execute_input": "2025-06-04T19:37:46.620513Z",
     "iopub.status.busy": "2025-06-04T19:37:46.620073Z",
     "iopub.status.idle": "2025-06-04T19:37:50.307474Z",
     "shell.execute_reply": "2025-06-04T19:37:50.306964Z"
    },
    "papermill": {
     "duration": 3.694509,
     "end_time": "2025-06-04T19:37:50.308122",
     "exception": false,
     "start_time": "2025-06-04T19:37:46.613613",
     "status": "completed"
    },
    "tags": []
   },
   "outputs": [
    {
     "data": {
      "image/png": "[encoded data removed]",
      "text/plain": [
       "<Figure size 900x500 with 1 Axes>"
      ]
     },
     "metadata": {},
     "output_type": "display_data"
    }
   ],
   "source": [
    "colors = ['#ff7f0e', '#2ca02c', '#d62728', '#9467bd']\n",
    "formats = ['raw'] + [f'jpeg_{q}' for q in JPEG_QUALITIES]\n",
    "x_labels = ['Raw'] + [f'JPEG {q}% quality' for q in JPEG_QUALITIES]\n",
    "\n",
    "acc_matrix = []\n",
    "for attack_name in attacks:\n",
    "    accs = []\n",
    "    for fmt in formats:\n",
    "        preds = np.array(results[attack_name][fmt])\n",
    "        true_labels = [label for _, label in list(test_loader.dataset)]\n",
    "        acc = (preds == np.array(true_labels[:len(preds)])).mean() * 100\n",
    "        accs.append(acc)\n",
    "    acc_matrix.append(accs)\n",
    "acc_matrix = np.array(acc_matrix)\n",
    "\n",
    "x = np.arange(len(formats))\n",
    "bar_width = 0.20\n",
    "\n",
    "plt.figure(figsize=(9, 5))\n",
    "for i, (attack_name, color) in enumerate(zip(attacks, colors)):\n",
    "    bars = plt.bar(x + i * bar_width, acc_matrix[i], width=bar_width, label=attack_name, color=color)\n",
    "    for bar in bars:\n",
    "        height = bar.get_height()\n",
    "        plt.text(bar.get_x() + bar.get_width()/2, height + 1, f'{height:.1f}%', ha='center', va='bottom', fontsize=7)\n",
    "\n",
    "plt.xticks(x + bar_width * (len(attacks) - 1) / 2, x_labels)\n",
    "plt.ylabel('Accuracy (%)')\n",
    "plt.title('Attack Accuracy on Raw vs JPEG-Compressed Images')\n",
    "plt.ylim(0, 100)\n",
    "plt.legend(loc='center left', bbox_to_anchor=(1, 0.5), frameon=False)\n",
    "plt.tight_layout()\n",
    "plt.show()"
   ]
  }
 ],
 "metadata": {
  "kernelspec": {
   "display_name": "CNNs",
   "language": "python",
   "name": "python3"
  },
  "language_info": {
   "codemirror_mode": {
    "name": "ipython",
    "version": 3
   },
   "file_extension": ".py",
   "mimetype": "text/x-python",
   "name": "python",
   "nbconvert_exporter": "python",
   "pygments_lexer": "ipython3",
   "version": "3.13.2"
  },
  "papermill": {
   "default_parameters": {},
   "duration": 644.042981,
   "end_time": "2025-06-04T19:37:51.831451",
   "environment_variables": {},
   "exception": null,
   "input_path": "jpeg_impact.ipynb",
   "output_path": "jpeg_impact_out.ipynb",
   "parameters": {},
   "start_time": "2025-06-04T19:27:07.788470",
   "version": "2.6.0"
  }
 },
 "nbformat": 4,
 "nbformat_minor": 5
}